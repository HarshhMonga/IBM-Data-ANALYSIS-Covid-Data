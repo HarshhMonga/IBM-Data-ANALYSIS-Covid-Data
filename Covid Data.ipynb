{
  "nbformat": 4,
  "nbformat_minor": 0,
  "metadata": {
    "colab": {
      "name": "Untitled1.ipynb",
      "provenance": [],
      "authorship_tag": "ABX9TyN0+YJiw7oW4cznDmQxudB4",
      "include_colab_link": true
    },
    "kernelspec": {
      "name": "python3",
      "display_name": "Python 3"
    },
    "language_info": {
      "name": "python"
    }
  },
  "cells": [
    {
      "cell_type": "markdown",
      "metadata": {
        "id": "view-in-github",
        "colab_type": "text"
      },
      "source": [
        "<a href=\"https://colab.research.google.com/github/HarshhMonga/IBM-Data-ANALYSIS-Covid-Data/blob/main/Covid%20Data.ipynb\" target=\"_parent\"><img src=\"https://colab.research.google.com/assets/colab-badge.svg\" alt=\"Open In Colab\"/></a>"
      ]
    },
    {
      "cell_type": "code",
      "metadata": {
        "id": "0AhBDt3mREz7"
      },
      "source": [
        "#importing all necessary libraries\n",
        "\n",
        "import numpy as np\n",
        "import pandas as pd\n",
        "import matplotlib.pyplot as plt\n",
        "import seaborn as sns\n",
        "%matplotlib inline"
      ],
      "execution_count": null,
      "outputs": []
    },
    {
      "cell_type": "code",
      "metadata": {
        "id": "2NDl0N8eRbGG"
      },
      "source": [
        "# State wise COVID tests file\n",
        "\n",
        "tests = pd.read_csv(\"../input/covid19-in-india/StatewiseTestingDetails.csv\")"
      ],
      "execution_count": null,
      "outputs": []
    },
    {
      "cell_type": "code",
      "metadata": {
        "id": "ZXmkJkzcReUd"
      },
      "source": [
        "# Total cases in india\n",
        "cases = pd.read_csv(\"../input/covid19-in-india/covid_19_india.csv\")"
      ],
      "execution_count": null,
      "outputs": []
    },
    {
      "cell_type": "code",
      "metadata": {
        "id": "m6AFB6cXRf_E"
      },
      "source": [
        "# Total Vaccination details\n",
        "vaccine = pd.read_csv(\"../input/covid19-in-india/covid_vaccine_statewise.csv\")"
      ],
      "execution_count": null,
      "outputs": []
    },
    {
      "cell_type": "code",
      "metadata": {
        "id": "ZlyiHY3VRhQk"
      },
      "source": [
        "# Checking the column names of tests file\n",
        "tests.head(2)"
      ],
      "execution_count": null,
      "outputs": []
    },
    {
      "cell_type": "code",
      "metadata": {
        "id": "WbNAH7o4R4Av"
      },
      "source": [
        "# Checking the column names of Vaccine file\n",
        "\n",
        "vaccine.head(2)"
      ],
      "execution_count": null,
      "outputs": []
    },
    {
      "cell_type": "code",
      "metadata": {
        "id": "uMOQOUrjR5Zg"
      },
      "source": [
        "# Checking the information of tests file\n",
        "\n",
        "tests.info()"
      ],
      "execution_count": null,
      "outputs": []
    },
    {
      "cell_type": "code",
      "metadata": {
        "id": "BkJVngisR6q6"
      },
      "source": [
        "# grouping the states in tests file to check the state wise positive cases\n",
        "state_positive = tests.groupby([\"State\"]).Positive.sum()"
      ],
      "execution_count": null,
      "outputs": []
    },
    {
      "cell_type": "code",
      "metadata": {
        "id": "fsRoHS3LR7-_"
      },
      "source": [
        "#plotting the result\n",
        "state_positive.plot(kind= \"hist\", figsize = (20,10))"
      ],
      "execution_count": null,
      "outputs": []
    },
    {
      "cell_type": "code",
      "metadata": {
        "id": "DgibNg3qR9Cj"
      },
      "source": [
        "# Information about the cases file\n",
        "cases.info()"
      ],
      "execution_count": null,
      "outputs": []
    },
    {
      "cell_type": "code",
      "metadata": {
        "id": "1m0GLZBkR-rv"
      },
      "source": [
        "# Description about the cases file.\n",
        "cases.describe()"
      ],
      "execution_count": null,
      "outputs": []
    },
    {
      "cell_type": "code",
      "metadata": {
        "id": "7m99-iq_SQBK"
      },
      "source": [
        "# checking the colomns of cases file\n",
        "cases.head(2)"
      ],
      "execution_count": null,
      "outputs": []
    },
    {
      "cell_type": "code",
      "metadata": {
        "id": "7GvAo_wpSRcB"
      },
      "source": [
        "# creating a new column \"Active\" to see the active cases of each state\n",
        "cases[\"Active\"] = cases.Confirmed - (cases.Cured+cases.Deaths)"
      ],
      "execution_count": null,
      "outputs": []
    },
    {
      "cell_type": "code",
      "metadata": {
        "id": "9xUVNHmeSS67"
      },
      "source": [
        "#confirming the change\n",
        "cases.head(2)"
      ],
      "execution_count": null,
      "outputs": []
    },
    {
      "cell_type": "code",
      "metadata": {
        "id": "JBDcipNbSUHO"
      },
      "source": [
        "# Caliculating the sum of Active cases\n",
        "cases.Active.sum()"
      ],
      "execution_count": null,
      "outputs": []
    },
    {
      "cell_type": "code",
      "metadata": {
        "id": "p2MJveKVSVBs"
      },
      "source": [
        "#caliculating the sum of deaths\n",
        "cases.Deaths.sum()"
      ],
      "execution_count": null,
      "outputs": []
    },
    {
      "cell_type": "code",
      "metadata": {
        "id": "3X_60l7ySWHY"
      },
      "source": [
        "#calicluating the sum of cured\n",
        "cases.Cured.sum()"
      ],
      "execution_count": null,
      "outputs": []
    },
    {
      "cell_type": "code",
      "metadata": {
        "id": "KBsH6JHuSXaE"
      },
      "source": [
        "#calculating the sum of confirmed\n",
        "cases.Confirmed.sum()"
      ],
      "execution_count": null,
      "outputs": []
    },
    {
      "cell_type": "code",
      "metadata": {
        "id": "U6SGtEAtSYvt"
      },
      "source": [
        "#renaming the state column for easy purpose\n",
        "cases.rename(columns={\"State/UnionTerritory\":\"State\"},inplace=True)"
      ],
      "execution_count": null,
      "outputs": []
    },
    {
      "cell_type": "code",
      "metadata": {
        "id": "lXhm7PeuSaIz"
      },
      "source": [
        "#confirming the chage\n",
        "cases.head(2)"
      ],
      "execution_count": null,
      "outputs": []
    },
    {
      "cell_type": "code",
      "metadata": {
        "id": "jJCvI-YBSakU"
      },
      "source": [
        "# grouping the states in cases file to check the state wise death cases\n",
        "# Here taking the max() because the count is the addition of each day\n",
        "\n",
        "Deaths_Statewise= cases.groupby(\"State\").Deaths.max().sort_values()"
      ],
      "execution_count": null,
      "outputs": []
    },
    {
      "cell_type": "code",
      "metadata": {
        "id": "2Xa_tkZnSanM"
      },
      "source": [
        "#Plotting the deaths Vs state\n",
        "Deaths_Statewise.plot(kind=\"bar\",figsize=(15,5))\n",
        "plt.xlabel(\"States\")\n",
        "plt.ylabel(\"No.of Deaths\")\n"
      ],
      "execution_count": null,
      "outputs": []
    },
    {
      "cell_type": "code",
      "metadata": {
        "id": "Tco4CaTRSap8"
      },
      "source": [
        "# grouping the states in cases file to check the state wise Active cases\n",
        "\n",
        "Active_Statewise = cases.groupby(\"State\").Active.max().sort_values()"
      ],
      "execution_count": null,
      "outputs": []
    },
    {
      "cell_type": "code",
      "metadata": {
        "id": "BBQjcJ98Sas5"
      },
      "source": [
        "#plot\n",
        "Active_Statewise.plot(kind=\"bar\",figsize=(15,10))"
      ],
      "execution_count": null,
      "outputs": []
    },
    {
      "cell_type": "code",
      "metadata": {
        "id": "JQMNL-YsSh1l"
      },
      "source": [
        "# grouping the states in cases file to check the state wise cured cases\n",
        "\n",
        "Cured_Statewise= cases.groupby(\"State\").Cured.max().sort_values()"
      ],
      "execution_count": null,
      "outputs": []
    },
    {
      "cell_type": "code",
      "metadata": {
        "id": "LnxpK7QNSjH9"
      },
      "source": [
        "#plot\n",
        "Cured_Statewise.plot(kind=\"bar\",figsize=(15,5),ylim=(0,6000000))"
      ],
      "execution_count": null,
      "outputs": []
    },
    {
      "cell_type": "code",
      "metadata": {
        "id": "7JOlD1caSjLQ"
      },
      "source": [
        "#changing the date column type from object type to datetime\n",
        "cases.Date = pd.to_datetime(cases.Date, dayfirst=True)"
      ],
      "execution_count": null,
      "outputs": []
    },
    {
      "cell_type": "code",
      "metadata": {
        "id": "gumVjNkcSjN8"
      },
      "source": [
        "# checking the last date of the sample collection\n",
        "cases.Date.max()"
      ],
      "execution_count": null,
      "outputs": []
    },
    {
      "cell_type": "code",
      "metadata": {
        "id": "Gy7-3SGCSjRd"
      },
      "source": [
        "# To check the cases, deaths and vaccination in 2 years, I sliced the data into first wave and second wave\n",
        "\n",
        "firstwave = cases.set_index(\"Date\").loc[\"2020-02-28\" : \"2020-12-30\" ]"
      ],
      "execution_count": null,
      "outputs": []
    },
    {
      "cell_type": "code",
      "metadata": {
        "id": "5hap_yb2SjT8"
      },
      "source": [
        "#second wave\n",
        "Secondwave = cases.set_index(\"Date\").loc[\"2020-12-30\" : \"2021-6-30\" ]"
      ],
      "execution_count": null,
      "outputs": []
    },
    {
      "cell_type": "code",
      "metadata": {
        "id": "LhN0MRAxSjX-"
      },
      "source": [
        "#checking the first wave columns\n",
        "firstwave.head()"
      ],
      "execution_count": null,
      "outputs": []
    },
    {
      "cell_type": "code",
      "metadata": {
        "id": "F3u3yo7LSjbN"
      },
      "source": [
        "#dropping the unnecessary columns\n",
        "firstwave.drop([\"ConfirmedIndianNational\",\"ConfirmedForeignNational\",\"Time\"], axis=1)"
      ],
      "execution_count": null,
      "outputs": []
    },
    {
      "cell_type": "code",
      "metadata": {
        "id": "vCsruxGISjeg"
      },
      "source": [
        "## grouping the states in first wave file to check the state wise death cases\n",
        "\n",
        "firstwave.groupby(\"State\").Deaths.max().sort_values().plot(kind=\"bar\",figsize=(15,5))"
      ],
      "execution_count": null,
      "outputs": []
    },
    {
      "cell_type": "code",
      "metadata": {
        "id": "AVzQ0YigS3_p"
      },
      "source": [
        "#caliculating the deaths\n",
        "firstwave.Deaths.max()"
      ],
      "execution_count": null,
      "outputs": []
    },
    {
      "cell_type": "code",
      "metadata": {
        "id": "k_LrT82sS4_P"
      },
      "source": [
        "## grouping the states in second wave file to check the state wise deaths cases\n",
        "\n",
        "Secondwave.groupby(\"State\").Deaths.max().sort_values().plot(kind=\"bar\",figsize=(15,5))"
      ],
      "execution_count": null,
      "outputs": []
    },
    {
      "cell_type": "code",
      "metadata": {
        "id": "TMmPqrekS5-4"
      },
      "source": [
        "#caliculating the second wave deaths max\n",
        "Secondwave.Deaths.max()"
      ],
      "execution_count": null,
      "outputs": []
    },
    {
      "cell_type": "code",
      "metadata": {
        "id": "lSJux6wqS7Wx"
      },
      "source": [
        "#caliculating the first wave confirmed max\n",
        "firstwave.Confirmed.max()"
      ],
      "execution_count": null,
      "outputs": []
    },
    {
      "cell_type": "code",
      "metadata": {
        "id": "YBakoLvrS8jv"
      },
      "source": [
        "#caliculating the second wave confirmed max\n",
        "Secondwave.Confirmed.max()"
      ],
      "execution_count": null,
      "outputs": []
    },
    {
      "cell_type": "code",
      "metadata": {
        "id": "oxwtc1zAS9t_"
      },
      "source": [
        "### grouping the states in first wave file to check the state wise Confirmed cases\n",
        "\n",
        "firstwave.groupby(\"State\").Confirmed.max().sort_values().plot(kind=\"bar\",figsize=(10,5))"
      ],
      "execution_count": null,
      "outputs": []
    },
    {
      "cell_type": "code",
      "metadata": {
        "id": "tWRw8_blS-b9"
      },
      "source": [
        "#checking the tests file again.\n",
        "tests.head(2)"
      ],
      "execution_count": null,
      "outputs": []
    },
    {
      "cell_type": "code",
      "metadata": {
        "id": "XRLjC-lsS__e"
      },
      "source": [
        "#plotting the total samples collected by each state in tests file.\n",
        "tests.groupby(\"State\").TotalSamples.max().sort_values().plot(kind=\"bar\", figsize=(10,5))"
      ],
      "execution_count": null,
      "outputs": []
    }
  ]
}